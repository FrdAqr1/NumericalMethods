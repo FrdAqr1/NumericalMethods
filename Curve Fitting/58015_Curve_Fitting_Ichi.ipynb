{
  "nbformat": 4,
  "nbformat_minor": 0,
  "metadata": {
    "colab": {
      "name": "58015_Curve Fitting_Ichi.ipynb",
      "provenance": [],
      "collapsed_sections": []
    },
    "kernelspec": {
      "name": "python3",
      "display_name": "Python 3"
    },
    "language_info": {
      "name": "python"
    }
  },
  "cells": [
    {
      "cell_type": "markdown",
      "metadata": {
        "id": "Ghnw-sdRG2s7"
      },
      "source": [
        "# Curve Fitting\n",
        "\n",
        "*submitted by:*\n",
        "\n",
        "Aquiro, Freddielyn E.\n",
        "\n",
        "Canoza, Cherrylyn\n",
        "\n",
        "Joaquin, Christopher Marc \n"
      ]
    },
    {
      "cell_type": "code",
      "metadata": {
        "id": "8r3XhrzDG6SG"
      },
      "source": [
        "import pandas as pd  \n",
        "import numpy as np  \n",
        "import matplotlib.pyplot as plt  \n",
        "import seaborn as sns \n",
        "from sklearn.model_selection import train_test_split \n",
        "from sklearn import datasets\n",
        "from sklearn.linear_model import LinearRegression\n",
        "from sklearn import metrics"
      ],
      "execution_count": 1,
      "outputs": []
    },
    {
      "cell_type": "code",
      "metadata": {
        "id": "MtxccG5sHDXl"
      },
      "source": [
        "# Data Preparation\n",
        "# importing data set from sklearn diabetes\n",
        "db_data = datasets.load_diabetes()"
      ],
      "execution_count": 2,
      "outputs": []
    },
    {
      "cell_type": "code",
      "metadata": {
        "colab": {
          "base_uri": "https://localhost:8080/",
          "height": 288
        },
        "id": "Ek5OQmNRHMyu",
        "outputId": "3f1683ee-0373-48b1-a469-87f9af15cb5e"
      },
      "source": [
        "diabetes_data = pd.DataFrame(db_data.data, columns=db_data.feature_names)\n",
        "diabetes_data.describe()"
      ],
      "execution_count": 3,
      "outputs": [
        {
          "output_type": "execute_result",
          "data": {
            "text/html": [
              "<div>\n",
              "<style scoped>\n",
              "    .dataframe tbody tr th:only-of-type {\n",
              "        vertical-align: middle;\n",
              "    }\n",
              "\n",
              "    .dataframe tbody tr th {\n",
              "        vertical-align: top;\n",
              "    }\n",
              "\n",
              "    .dataframe thead th {\n",
              "        text-align: right;\n",
              "    }\n",
              "</style>\n",
              "<table border=\"1\" class=\"dataframe\">\n",
              "  <thead>\n",
              "    <tr style=\"text-align: right;\">\n",
              "      <th></th>\n",
              "      <th>age</th>\n",
              "      <th>sex</th>\n",
              "      <th>bmi</th>\n",
              "      <th>bp</th>\n",
              "      <th>s1</th>\n",
              "      <th>s2</th>\n",
              "      <th>s3</th>\n",
              "      <th>s4</th>\n",
              "      <th>s5</th>\n",
              "      <th>s6</th>\n",
              "    </tr>\n",
              "  </thead>\n",
              "  <tbody>\n",
              "    <tr>\n",
              "      <th>count</th>\n",
              "      <td>4.420000e+02</td>\n",
              "      <td>4.420000e+02</td>\n",
              "      <td>4.420000e+02</td>\n",
              "      <td>4.420000e+02</td>\n",
              "      <td>4.420000e+02</td>\n",
              "      <td>4.420000e+02</td>\n",
              "      <td>4.420000e+02</td>\n",
              "      <td>4.420000e+02</td>\n",
              "      <td>4.420000e+02</td>\n",
              "      <td>4.420000e+02</td>\n",
              "    </tr>\n",
              "    <tr>\n",
              "      <th>mean</th>\n",
              "      <td>-3.634285e-16</td>\n",
              "      <td>1.308343e-16</td>\n",
              "      <td>-8.045349e-16</td>\n",
              "      <td>1.281655e-16</td>\n",
              "      <td>-8.835316e-17</td>\n",
              "      <td>1.327024e-16</td>\n",
              "      <td>-4.574646e-16</td>\n",
              "      <td>3.777301e-16</td>\n",
              "      <td>-3.830854e-16</td>\n",
              "      <td>-3.412882e-16</td>\n",
              "    </tr>\n",
              "    <tr>\n",
              "      <th>std</th>\n",
              "      <td>4.761905e-02</td>\n",
              "      <td>4.761905e-02</td>\n",
              "      <td>4.761905e-02</td>\n",
              "      <td>4.761905e-02</td>\n",
              "      <td>4.761905e-02</td>\n",
              "      <td>4.761905e-02</td>\n",
              "      <td>4.761905e-02</td>\n",
              "      <td>4.761905e-02</td>\n",
              "      <td>4.761905e-02</td>\n",
              "      <td>4.761905e-02</td>\n",
              "    </tr>\n",
              "    <tr>\n",
              "      <th>min</th>\n",
              "      <td>-1.072256e-01</td>\n",
              "      <td>-4.464164e-02</td>\n",
              "      <td>-9.027530e-02</td>\n",
              "      <td>-1.123996e-01</td>\n",
              "      <td>-1.267807e-01</td>\n",
              "      <td>-1.156131e-01</td>\n",
              "      <td>-1.023071e-01</td>\n",
              "      <td>-7.639450e-02</td>\n",
              "      <td>-1.260974e-01</td>\n",
              "      <td>-1.377672e-01</td>\n",
              "    </tr>\n",
              "    <tr>\n",
              "      <th>25%</th>\n",
              "      <td>-3.729927e-02</td>\n",
              "      <td>-4.464164e-02</td>\n",
              "      <td>-3.422907e-02</td>\n",
              "      <td>-3.665645e-02</td>\n",
              "      <td>-3.424784e-02</td>\n",
              "      <td>-3.035840e-02</td>\n",
              "      <td>-3.511716e-02</td>\n",
              "      <td>-3.949338e-02</td>\n",
              "      <td>-3.324879e-02</td>\n",
              "      <td>-3.317903e-02</td>\n",
              "    </tr>\n",
              "    <tr>\n",
              "      <th>50%</th>\n",
              "      <td>5.383060e-03</td>\n",
              "      <td>-4.464164e-02</td>\n",
              "      <td>-7.283766e-03</td>\n",
              "      <td>-5.670611e-03</td>\n",
              "      <td>-4.320866e-03</td>\n",
              "      <td>-3.819065e-03</td>\n",
              "      <td>-6.584468e-03</td>\n",
              "      <td>-2.592262e-03</td>\n",
              "      <td>-1.947634e-03</td>\n",
              "      <td>-1.077698e-03</td>\n",
              "    </tr>\n",
              "    <tr>\n",
              "      <th>75%</th>\n",
              "      <td>3.807591e-02</td>\n",
              "      <td>5.068012e-02</td>\n",
              "      <td>3.124802e-02</td>\n",
              "      <td>3.564384e-02</td>\n",
              "      <td>2.835801e-02</td>\n",
              "      <td>2.984439e-02</td>\n",
              "      <td>2.931150e-02</td>\n",
              "      <td>3.430886e-02</td>\n",
              "      <td>3.243323e-02</td>\n",
              "      <td>2.791705e-02</td>\n",
              "    </tr>\n",
              "    <tr>\n",
              "      <th>max</th>\n",
              "      <td>1.107267e-01</td>\n",
              "      <td>5.068012e-02</td>\n",
              "      <td>1.705552e-01</td>\n",
              "      <td>1.320442e-01</td>\n",
              "      <td>1.539137e-01</td>\n",
              "      <td>1.987880e-01</td>\n",
              "      <td>1.811791e-01</td>\n",
              "      <td>1.852344e-01</td>\n",
              "      <td>1.335990e-01</td>\n",
              "      <td>1.356118e-01</td>\n",
              "    </tr>\n",
              "  </tbody>\n",
              "</table>\n",
              "</div>"
            ],
            "text/plain": [
              "                age           sex  ...            s5            s6\n",
              "count  4.420000e+02  4.420000e+02  ...  4.420000e+02  4.420000e+02\n",
              "mean  -3.634285e-16  1.308343e-16  ... -3.830854e-16 -3.412882e-16\n",
              "std    4.761905e-02  4.761905e-02  ...  4.761905e-02  4.761905e-02\n",
              "min   -1.072256e-01 -4.464164e-02  ... -1.260974e-01 -1.377672e-01\n",
              "25%   -3.729927e-02 -4.464164e-02  ... -3.324879e-02 -3.317903e-02\n",
              "50%    5.383060e-03 -4.464164e-02  ... -1.947634e-03 -1.077698e-03\n",
              "75%    3.807591e-02  5.068012e-02  ...  3.243323e-02  2.791705e-02\n",
              "max    1.107267e-01  5.068012e-02  ...  1.335990e-01  1.356118e-01\n",
              "\n",
              "[8 rows x 10 columns]"
            ]
          },
          "metadata": {
            "tags": []
          },
          "execution_count": 3
        }
      ]
    },
    {
      "cell_type": "code",
      "metadata": {
        "colab": {
          "base_uri": "https://localhost:8080/",
          "height": 0
        },
        "id": "0pzNr6T2HP4-",
        "outputId": "49b70024-44a7-4854-c4c8-bbfb39c64a14"
      },
      "source": [
        "# checking its rows and columns \n",
        "diabetes_data.shape"
      ],
      "execution_count": 4,
      "outputs": [
        {
          "output_type": "execute_result",
          "data": {
            "text/plain": [
              "(442, 10)"
            ]
          },
          "metadata": {
            "tags": []
          },
          "execution_count": 4
        }
      ]
    },
    {
      "cell_type": "code",
      "metadata": {
        "colab": {
          "base_uri": "https://localhost:8080/",
          "height": 0
        },
        "id": "T4YkKaGqHd2G",
        "outputId": "6eab3325-b73f-4e22-ffe2-7b13ce080e48"
      },
      "source": [
        "# target refers to y-axis. setting target as the data of disease progression\n",
        "diabetes_data['disease progression'] = db_data.target\n",
        "diabetes_data['disease progression'].head()"
      ],
      "execution_count": 5,
      "outputs": [
        {
          "output_type": "execute_result",
          "data": {
            "text/plain": [
              "0    151.0\n",
              "1     75.0\n",
              "2    141.0\n",
              "3    206.0\n",
              "4    135.0\n",
              "Name: disease progression, dtype: float64"
            ]
          },
          "metadata": {
            "tags": []
          },
          "execution_count": 5
        }
      ]
    },
    {
      "cell_type": "code",
      "metadata": {
        "colab": {
          "base_uri": "https://localhost:8080/",
          "height": 0
        },
        "id": "bIBpwA7cHvNw",
        "outputId": "a768497a-0ab5-4733-dd53-1061e8d9a33b"
      },
      "source": [
        "#cheking the updated rows and columns of the data\n",
        "diabetes_data.shape"
      ],
      "execution_count": 6,
      "outputs": [
        {
          "output_type": "execute_result",
          "data": {
            "text/plain": [
              "(442, 11)"
            ]
          },
          "metadata": {
            "tags": []
          },
          "execution_count": 6
        }
      ]
    },
    {
      "cell_type": "markdown",
      "metadata": {
        "id": "UrQNGyUVNz86"
      },
      "source": [
        "Visualization of percentage related on the following \n",
        " bp =  average blood pressure \n",
        "\n",
        " s4= total cholesterol / HDL (tch)\n",
        " \n",
        " s6 = blood sugar level \n",
        "\n",
        "which measure of disease progression one year after baseline [1] "
      ]
    },
    {
      "cell_type": "code",
      "metadata": {
        "colab": {
          "base_uri": "https://localhost:8080/",
          "height": 297
        },
        "id": "4dasXFLnH8M-",
        "outputId": "9055fe48-5ad5-4430-83c9-7d790ef841a2"
      },
      "source": [
        "# Visualizing the average blood pressure and disease progression\n",
        "diabetes_data.plot(x='bp', y='disease progression', style='o', alpha=0.2)  \n",
        "plt.title('bp vs disease progession', fontsize=16)  \n",
        "plt.xlabel('bp')  \n",
        "plt.ylabel('disease progression ')  \n",
        "plt.show()"
      ],
      "execution_count": 7,
      "outputs": [
        {
          "output_type": "display_data",
          "data": {
            "image/png": "[encoded data removed]",
            "text/plain": [
              "<Figure size 432x288 with 1 Axes>"
            ]
          },
          "metadata": {
            "tags": [],
            "needs_background": "light"
          }
        }
      ]
    },
    {
      "cell_type": "code",
      "metadata": {
        "colab": {
          "base_uri": "https://localhost:8080/",
          "height": 297
        },
        "id": "TQyVSkOUJq1u",
        "outputId": "a178f17a-cffb-45df-d217-20e318610b36"
      },
      "source": [
        "diabetes_data.plot(x='s4', y='disease progression', style='o', alpha=0.2)  \n",
        "plt.title('total cholesterol/ HDL (s4) vs disease progession', fontsize=16)  \n",
        "plt.xlabel('s4')  \n",
        "plt.ylabel('disease progression ')  \n",
        "plt.show()"
      ],
      "execution_count": 8,
      "outputs": [
        {
          "output_type": "display_data",
          "data": {
            "image/png": "[encoded data removed]",
            "text/plain": [
              "<Figure size 432x288 with 1 Axes>"
            ]
          },
          "metadata": {
            "tags": [],
            "needs_background": "light"
          }
        }
      ]
    },
    {
      "cell_type": "code",
      "metadata": {
        "colab": {
          "base_uri": "https://localhost:8080/",
          "height": 297
        },
        "id": "kZl7DaYXLe4C",
        "outputId": "79449cf5-2b37-48c4-8d8d-6f1f6a5034f9"
      },
      "source": [
        "diabetes_data.plot(x='s6', y='disease progression', style='o', alpha=0.2)  \n",
        "plt.title('blood sugar level (glu) (s6) vs disease progession', fontsize=16)  \n",
        "plt.xlabel('s6')  \n",
        "plt.ylabel('disease progression ')  \n",
        "plt.show()"
      ],
      "execution_count": 9,
      "outputs": [
        {
          "output_type": "display_data",
          "data": {
            "image/png": "[encoded data removed]",
            "text/plain": [
              "<Figure size 432x288 with 1 Axes>"
            ]
          },
          "metadata": {
            "tags": [],
            "needs_background": "light"
          }
        }
      ]
    },
    {
      "cell_type": "markdown",
      "metadata": {
        "id": "VCcvaDibxWfP"
      },
      "source": [
        "## Multiple Linear Regression"
      ]
    },
    {
      "cell_type": "code",
      "metadata": {
        "id": "s2eBs8KoKhmt"
      },
      "source": [
        "# Multiple Regreesion\n",
        "X = pd.DataFrame(np.c_[diabetes_data['s4'], diabetes_data['bp'], diabetes_data['s6']], columns=['s4','bp','s6'])\n",
        "y = diabetes_data['disease progression']\n",
        "X_train, X_test, y_train, y_test = train_test_split(X, y, test_size = 0.2, random_state=1)"
      ],
      "execution_count": 10,
      "outputs": []
    },
    {
      "cell_type": "code",
      "metadata": {
        "colab": {
          "base_uri": "https://localhost:8080/",
          "height": 0
        },
        "id": "t6jfgatwIfIU",
        "outputId": "9e25d685-2760-4741-b2f7-cefbc9ec1589"
      },
      "source": [
        "# Fitting a Multiple Linear Model\n",
        "l_reg= LinearRegression()  \n",
        "l_reg.fit(X_train, y_train)"
      ],
      "execution_count": 11,
      "outputs": [
        {
          "output_type": "execute_result",
          "data": {
            "text/plain": [
              "LinearRegression(copy_X=True, fit_intercept=True, n_jobs=None, normalize=False)"
            ]
          },
          "metadata": {
            "tags": []
          },
          "execution_count": 11
        }
      ]
    },
    {
      "cell_type": "code",
      "metadata": {
        "colab": {
          "base_uri": "https://localhost:8080/",
          "height": 168
        },
        "id": "_qdTM1xbId9O",
        "outputId": "691da67b-50be-476d-a209-077d6e7b61b2"
      },
      "source": [
        "# Summary of modelling \n",
        "l_reg_sum =  pd.DataFrame(X.columns, columns=['Features'])\n",
        "l_reg_sum['Weights Raw'] = l_reg.coef_.reshape(3,1)\n",
        "l_reg_sum = l_reg_sum.append({'Features':'Intercept', 'Weights Raw':float(l_reg.intercept_)}, ignore_index=True)\n",
        "l_reg_sum"
      ],
      "execution_count": 12,
      "outputs": [
        {
          "output_type": "execute_result",
          "data": {
            "text/html": [
              "<div>\n",
              "<style scoped>\n",
              "    .dataframe tbody tr th:only-of-type {\n",
              "        vertical-align: middle;\n",
              "    }\n",
              "\n",
              "    .dataframe tbody tr th {\n",
              "        vertical-align: top;\n",
              "    }\n",
              "\n",
              "    .dataframe thead th {\n",
              "        text-align: right;\n",
              "    }\n",
              "</style>\n",
              "<table border=\"1\" class=\"dataframe\">\n",
              "  <thead>\n",
              "    <tr style=\"text-align: right;\">\n",
              "      <th></th>\n",
              "      <th>Features</th>\n",
              "      <th>Weights Raw</th>\n",
              "    </tr>\n",
              "  </thead>\n",
              "  <tbody>\n",
              "    <tr>\n",
              "      <th>0</th>\n",
              "      <td>s4</td>\n",
              "      <td>476.371697</td>\n",
              "    </tr>\n",
              "    <tr>\n",
              "      <th>1</th>\n",
              "      <td>bp</td>\n",
              "      <td>520.717573</td>\n",
              "    </tr>\n",
              "    <tr>\n",
              "      <th>2</th>\n",
              "      <td>s6</td>\n",
              "      <td>223.540217</td>\n",
              "    </tr>\n",
              "    <tr>\n",
              "      <th>3</th>\n",
              "      <td>Intercept</td>\n",
              "      <td>152.003079</td>\n",
              "    </tr>\n",
              "  </tbody>\n",
              "</table>\n",
              "</div>"
            ],
            "text/plain": [
              "    Features  Weights Raw\n",
              "0         s4   476.371697\n",
              "1         bp   520.717573\n",
              "2         s6   223.540217\n",
              "3  Intercept   152.003079"
            ]
          },
          "metadata": {
            "tags": []
          },
          "execution_count": 12
        }
      ]
    },
    {
      "cell_type": "code",
      "metadata": {
        "colab": {
          "base_uri": "https://localhost:8080/",
          "height": 407
        },
        "id": "Ld0wkUReJMce",
        "outputId": "ca445ccb-3955-4e57-98f0-040b290dcdd2"
      },
      "source": [
        "# prediction model \n",
        "preds = l_reg.predict(X_test)\n",
        "res = pd.DataFrame({'Actual': y_test, 'Predicted': preds})\n",
        "res"
      ],
      "execution_count": 13,
      "outputs": [
        {
          "output_type": "execute_result",
          "data": {
            "text/html": [
              "<div>\n",
              "<style scoped>\n",
              "    .dataframe tbody tr th:only-of-type {\n",
              "        vertical-align: middle;\n",
              "    }\n",
              "\n",
              "    .dataframe tbody tr th {\n",
              "        vertical-align: top;\n",
              "    }\n",
              "\n",
              "    .dataframe thead th {\n",
              "        text-align: right;\n",
              "    }\n",
              "</style>\n",
              "<table border=\"1\" class=\"dataframe\">\n",
              "  <thead>\n",
              "    <tr style=\"text-align: right;\">\n",
              "      <th></th>\n",
              "      <th>Actual</th>\n",
              "      <th>Predicted</th>\n",
              "    </tr>\n",
              "  </thead>\n",
              "  <tbody>\n",
              "    <tr>\n",
              "      <th>246</th>\n",
              "      <td>78.0</td>\n",
              "      <td>101.813989</td>\n",
              "    </tr>\n",
              "    <tr>\n",
              "      <th>425</th>\n",
              "      <td>152.0</td>\n",
              "      <td>61.865283</td>\n",
              "    </tr>\n",
              "    <tr>\n",
              "      <th>293</th>\n",
              "      <td>200.0</td>\n",
              "      <td>158.542200</td>\n",
              "    </tr>\n",
              "    <tr>\n",
              "      <th>31</th>\n",
              "      <td>59.0</td>\n",
              "      <td>63.717138</td>\n",
              "    </tr>\n",
              "    <tr>\n",
              "      <th>359</th>\n",
              "      <td>311.0</td>\n",
              "      <td>198.762461</td>\n",
              "    </tr>\n",
              "    <tr>\n",
              "      <th>...</th>\n",
              "      <td>...</td>\n",
              "      <td>...</td>\n",
              "    </tr>\n",
              "    <tr>\n",
              "      <th>277</th>\n",
              "      <td>64.0</td>\n",
              "      <td>119.706441</td>\n",
              "    </tr>\n",
              "    <tr>\n",
              "      <th>132</th>\n",
              "      <td>107.0</td>\n",
              "      <td>151.337305</td>\n",
              "    </tr>\n",
              "    <tr>\n",
              "      <th>213</th>\n",
              "      <td>49.0</td>\n",
              "      <td>122.883893</td>\n",
              "    </tr>\n",
              "    <tr>\n",
              "      <th>286</th>\n",
              "      <td>60.0</td>\n",
              "      <td>73.843248</td>\n",
              "    </tr>\n",
              "    <tr>\n",
              "      <th>256</th>\n",
              "      <td>346.0</td>\n",
              "      <td>146.417776</td>\n",
              "    </tr>\n",
              "  </tbody>\n",
              "</table>\n",
              "<p>89 rows × 2 columns</p>\n",
              "</div>"
            ],
            "text/plain": [
              "     Actual   Predicted\n",
              "246    78.0  101.813989\n",
              "425   152.0   61.865283\n",
              "293   200.0  158.542200\n",
              "31     59.0   63.717138\n",
              "359   311.0  198.762461\n",
              "..      ...         ...\n",
              "277    64.0  119.706441\n",
              "132   107.0  151.337305\n",
              "213    49.0  122.883893\n",
              "286    60.0   73.843248\n",
              "256   346.0  146.417776\n",
              "\n",
              "[89 rows x 2 columns]"
            ]
          },
          "metadata": {
            "tags": []
          },
          "execution_count": 13
        }
      ]
    },
    {
      "cell_type": "code",
      "metadata": {
        "colab": {
          "base_uri": "https://localhost:8080/",
          "height": 636
        },
        "id": "NaKyFWPkR1oN",
        "outputId": "ed86b752-b18c-404a-f1e9-29f5d7c07693"
      },
      "source": [
        "plt.figure(figsize=(10,10))\n",
        "plt.title('Predictions', fontsize=20)\n",
        "plt.scatter(y_test, preds, s = 150,  alpha=0.5)\n",
        "plt.xlabel('Ground Truth', fontsize=20)\n",
        "plt.ylabel('Prediction', fontsize=20)\n",
        "plt.show()"
      ],
      "execution_count": 14,
      "outputs": [
        {
          "output_type": "display_data",
          "data": {
            "image/png": "[encoded data removed]",
            "text/plain": [
              "<Figure size 720x720 with 1 Axes>"
            ]
          },
          "metadata": {
            "tags": [],
            "needs_background": "light"
          }
        }
      ]
    },
    {
      "cell_type": "code",
      "metadata": {
        "id": "fYi6zsWvS1tU"
      },
      "source": [
        "# Metrics\n",
        "# adjusted r squared as per lecture\n",
        "\n",
        "def adjr2(r2,x):\n",
        "    n = x.shape[0]\n",
        "    p = x.shape[1]\n",
        "    adjusted_r2 = 1-(1-r2)*(n-1)/(n-p-1)\n",
        "    return adjusted_r2"
      ],
      "execution_count": 15,
      "outputs": []
    },
    {
      "cell_type": "code",
      "metadata": {
        "colab": {
          "base_uri": "https://localhost:8080/",
          "height": 168
        },
        "id": "EAXjwXzFTBiv",
        "outputId": "c6ba9557-09b6-4aed-e0c9-2e4a871f49e2"
      },
      "source": [
        "MSE = metrics.mean_squared_error(y_test, preds)\n",
        "RMSE = np.sqrt(MSE)\n",
        "R2 = metrics.r2_score(y_test, preds)\n",
        "AR2 = adjr2(R2,X_train)\n",
        "model_metrics = pd.DataFrame([['MSE'],['RMSE'],['R^2'],\n",
        "                              ['Adjusted R^2']], \n",
        "                             columns=['Metrics'])\n",
        "model_metrics['Multiple Regression'] = MSE, RMSE, R2, AR2\n",
        "model_metrics"
      ],
      "execution_count": 16,
      "outputs": [
        {
          "output_type": "execute_result",
          "data": {
            "text/html": [
              "<div>\n",
              "<style scoped>\n",
              "    .dataframe tbody tr th:only-of-type {\n",
              "        vertical-align: middle;\n",
              "    }\n",
              "\n",
              "    .dataframe tbody tr th {\n",
              "        vertical-align: top;\n",
              "    }\n",
              "\n",
              "    .dataframe thead th {\n",
              "        text-align: right;\n",
              "    }\n",
              "</style>\n",
              "<table border=\"1\" class=\"dataframe\">\n",
              "  <thead>\n",
              "    <tr style=\"text-align: right;\">\n",
              "      <th></th>\n",
              "      <th>Metrics</th>\n",
              "      <th>Multiple Regression</th>\n",
              "    </tr>\n",
              "  </thead>\n",
              "  <tbody>\n",
              "    <tr>\n",
              "      <th>0</th>\n",
              "      <td>MSE</td>\n",
              "      <td>3834.449487</td>\n",
              "    </tr>\n",
              "    <tr>\n",
              "      <th>1</th>\n",
              "      <td>RMSE</td>\n",
              "      <td>61.922932</td>\n",
              "    </tr>\n",
              "    <tr>\n",
              "      <th>2</th>\n",
              "      <td>R^2</td>\n",
              "      <td>0.280452</td>\n",
              "    </tr>\n",
              "    <tr>\n",
              "      <th>3</th>\n",
              "      <td>Adjusted R^2</td>\n",
              "      <td>0.274267</td>\n",
              "    </tr>\n",
              "  </tbody>\n",
              "</table>\n",
              "</div>"
            ],
            "text/plain": [
              "        Metrics  Multiple Regression\n",
              "0           MSE          3834.449487\n",
              "1          RMSE            61.922932\n",
              "2           R^2             0.280452\n",
              "3  Adjusted R^2             0.274267"
            ]
          },
          "metadata": {
            "tags": []
          },
          "execution_count": 16
        }
      ]
    },
    {
      "cell_type": "markdown",
      "metadata": {
        "id": "GrAXks7YxgMM"
      },
      "source": [
        "## Polynomial Regression"
      ]
    },
    {
      "cell_type": "code",
      "metadata": {
        "id": "0IJOlzjuTKSH"
      },
      "source": [
        "# POLYNOMIAL REGRESSION\n",
        "from sklearn.preprocessing import PolynomialFeatures\n",
        "X = pd.DataFrame(np.c_[diabetes_data['s4'], diabetes_data['bp'], diabetes_data['s6'],diabetes_data['s1']], columns=['s4','bp','s6','s1'])\n",
        "y = diabetes_data['disease progression']\n",
        "X_train, X_test, y_train, y_test = train_test_split(X, y, test_size = 0.2, random_state=1)"
      ],
      "execution_count": 17,
      "outputs": []
    },
    {
      "cell_type": "code",
      "metadata": {
        "id": "FvyPa02CUpNl"
      },
      "source": [
        "poly_reg = PolynomialFeatures(degree=2)\n",
        "X_poly = poly_reg.fit_transform(X_train)"
      ],
      "execution_count": 18,
      "outputs": []
    },
    {
      "cell_type": "code",
      "metadata": {
        "colab": {
          "base_uri": "https://localhost:8080/",
          "height": 0
        },
        "id": "wwxZ9djyeHpZ",
        "outputId": "2714f955-cfe1-4a5e-889d-16d0e24dccf2"
      },
      "source": [
        "print(X_poly)"
      ],
      "execution_count": 19,
      "outputs": [
        {
          "output_type": "stream",
          "text": [
            "[[ 1.00000000e+00  3.43088589e-02 -6.76422830e-02 ...  1.97895780e-03\n",
            "   2.19497116e-03  2.43456348e-03]\n",
            " [ 1.00000000e+00  5.60805202e-02 -1.14087284e-02 ...  1.02778960e-03\n",
            "   1.27305716e-03  1.57685439e-03]\n",
            " [ 1.00000000e+00 -2.59226200e-03  4.25295792e-02 ...  2.72463581e-05\n",
            "  -3.72467191e-04  5.09175604e-03]\n",
            " ...\n",
            " [ 1.00000000e+00 -3.94933829e-02 -2.28849640e-02 ...  1.17063562e-03\n",
            "   2.17217379e-03  4.03057866e-03]\n",
            " [ 1.00000000e+00  1.29062088e-02  5.85963092e-02 ...  2.36464207e-03\n",
            "  -2.88648387e-03  3.52348849e-03]\n",
            " [ 1.00000000e+00 -3.94933829e-02 -5.73136710e-02 ...  2.72463581e-05\n",
            "   1.30287145e-04  6.23009508e-04]]\n"
          ],
          "name": "stdout"
        }
      ]
    },
    {
      "cell_type": "code",
      "metadata": {
        "colab": {
          "base_uri": "https://localhost:8080/",
          "height": 0
        },
        "id": "YsAsrIdnby6i",
        "outputId": "f1ab4430-b61f-4bf7-f7d8-daa365002f23"
      },
      "source": [
        "# Fitting a Multiple Linear Model\n",
        "l_reg2 = LinearRegression()\n",
        "l_reg2.fit(X_poly, y_train)"
      ],
      "execution_count": 20,
      "outputs": [
        {
          "output_type": "execute_result",
          "data": {
            "text/plain": [
              "LinearRegression(copy_X=True, fit_intercept=True, n_jobs=None, normalize=False)"
            ]
          },
          "metadata": {
            "tags": []
          },
          "execution_count": 20
        }
      ]
    },
    {
      "cell_type": "code",
      "metadata": {
        "id": "qZoUa3qKb-jK"
      },
      "source": [
        "preds = l_reg2.predict(poly_reg.fit_transform(X_test))"
      ],
      "execution_count": 21,
      "outputs": []
    },
    {
      "cell_type": "code",
      "metadata": {
        "colab": {
          "base_uri": "https://localhost:8080/",
          "height": 168
        },
        "id": "d1a9slLwQKyT",
        "outputId": "c14b879c-c51f-4032-bf62-990b197197e3"
      },
      "source": [
        "poly_MSE = metrics.mean_squared_error(y_test,preds)\n",
        "poly_RMSE = np.sqrt(poly_MSE)\n",
        "poly_R2 = metrics.r2_score(y_test,preds)\n",
        "poly_AR2 = adjr2(poly_R2,X_train)\n",
        "model_metrics = pd.DataFrame([['MSE'],['RMSE'],['R^2'],\n",
        "                              ['Adjusted R^2']], \n",
        "                             columns=['Metrics'])\n",
        "model_metrics['Polynomial Regression'] = poly_MSE, poly_RMSE, poly_R2, poly_AR2\n",
        "model_metrics"
      ],
      "execution_count": 22,
      "outputs": [
        {
          "output_type": "execute_result",
          "data": {
            "text/html": [
              "<div>\n",
              "<style scoped>\n",
              "    .dataframe tbody tr th:only-of-type {\n",
              "        vertical-align: middle;\n",
              "    }\n",
              "\n",
              "    .dataframe tbody tr th {\n",
              "        vertical-align: top;\n",
              "    }\n",
              "\n",
              "    .dataframe thead th {\n",
              "        text-align: right;\n",
              "    }\n",
              "</style>\n",
              "<table border=\"1\" class=\"dataframe\">\n",
              "  <thead>\n",
              "    <tr style=\"text-align: right;\">\n",
              "      <th></th>\n",
              "      <th>Metrics</th>\n",
              "      <th>Polynomial Regression</th>\n",
              "    </tr>\n",
              "  </thead>\n",
              "  <tbody>\n",
              "    <tr>\n",
              "      <th>0</th>\n",
              "      <td>MSE</td>\n",
              "      <td>4219.197941</td>\n",
              "    </tr>\n",
              "    <tr>\n",
              "      <th>1</th>\n",
              "      <td>RMSE</td>\n",
              "      <td>64.955353</td>\n",
              "    </tr>\n",
              "    <tr>\n",
              "      <th>2</th>\n",
              "      <td>R^2</td>\n",
              "      <td>0.208253</td>\n",
              "    </tr>\n",
              "    <tr>\n",
              "      <th>3</th>\n",
              "      <td>Adjusted R^2</td>\n",
              "      <td>0.199152</td>\n",
              "    </tr>\n",
              "  </tbody>\n",
              "</table>\n",
              "</div>"
            ],
            "text/plain": [
              "        Metrics  Polynomial Regression\n",
              "0           MSE            4219.197941\n",
              "1          RMSE              64.955353\n",
              "2           R^2               0.208253\n",
              "3  Adjusted R^2               0.199152"
            ]
          },
          "metadata": {
            "tags": []
          },
          "execution_count": 22
        }
      ]
    },
    {
      "cell_type": "markdown",
      "metadata": {
        "id": "lLJq7XS6S0Af"
      },
      "source": [
        "## Normal Equation "
      ]
    },
    {
      "cell_type": "code",
      "metadata": {
        "id": "hoqn_zmIi2R3"
      },
      "source": [
        "X = diabetes_data['s4'].values.reshape(-1,1)\n",
        "y = diabetes_data['disease progression'].values.reshape(-1,1)\n",
        "\n",
        "n = len(diabetes_data['s4']) #no. rows\n",
        "bias = np.ones((n,1)) #column-1 of Matrix X\n",
        "xnew = np.reshape(X,(n,1)) #reshaping the data\n",
        "xnew1 =np.append(bias,xnew,axis=1) #forming Matrix X\n",
        "xnew1_t = np.transpose(xnew1) #transpose\n",
        "xnew_t_dot_x_new = xnew1_t.dot(xnew1) #matrix multiplication\n",
        "temp_1 = np.linalg.inv(xnew_t_dot_x_new) #inverse of a matrix\n",
        "temp_2 = xnew1_t.dot(y)"
      ],
      "execution_count": 23,
      "outputs": []
    },
    {
      "cell_type": "code",
      "metadata": {
        "colab": {
          "base_uri": "https://localhost:8080/",
          "height": 0
        },
        "id": "by0y2u5JmYUs",
        "outputId": "3571241e-0923-44fc-92c7-bc5d6ffeffc6"
      },
      "source": [
        "#Finding coefficients:\n",
        "\n",
        "theta = temp_1.dot(temp_2)\n",
        "Intercept = theta[0]\n",
        "Slope = theta[1]\n",
        "print(\"Intercept:\",Intercept)\n",
        "print(\"Slope:\",Slope)"
      ],
      "execution_count": 24,
      "outputs": [
        {
          "output_type": "stream",
          "text": [
            "Intercept: [152.13348416]\n",
            "Slope: [696.88303009]\n"
          ],
          "name": "stdout"
        }
      ]
    },
    {
      "cell_type": "code",
      "metadata": {
        "id": "9hLb5CtQmb1T"
      },
      "source": [
        "#Predicting values:\n",
        "def predict_value(input_feature,slope,intercept):\n",
        "    return slope*input_feature+intercept"
      ],
      "execution_count": 25,
      "outputs": []
    },
    {
      "cell_type": "code",
      "metadata": {
        "colab": {
          "base_uri": "https://localhost:8080/",
          "height": 0
        },
        "id": "v2TrDcXPmfeF",
        "outputId": "07e50507-bc87-4d0c-fcbc-b1cee89cb5f6"
      },
      "source": [
        "s4 = 4\n",
        "prediction =predict_value(s4,Slope,Intercept)\n",
        "print(prediction)"
      ],
      "execution_count": 26,
      "outputs": [
        {
          "output_type": "stream",
          "text": [
            "[2939.66560453]\n"
          ],
          "name": "stdout"
        }
      ]
    },
    {
      "cell_type": "code",
      "metadata": {
        "colab": {
          "base_uri": "https://localhost:8080/",
          "height": 406
        },
        "id": "fdSARGLYmijr",
        "outputId": "26a185fd-76cb-4323-8b0f-a2db3cb1d3bb"
      },
      "source": [
        "#Plotting the regression Line:\n",
        "plt.figure(figsize=(5*2,3*2))\n",
        "plt.scatter(X,y, alpha=0.5)\n",
        "plt.xlabel('s4')\n",
        "plt.ylabel('disease progression')\n",
        "plt.plot(X,Slope*X+Intercept, color=\"green\")"
      ],
      "execution_count": 27,
      "outputs": [
        {
          "output_type": "execute_result",
          "data": {
            "text/plain": [
              "[<matplotlib.lines.Line2D at 0x7f1ed5b34710>]"
            ]
          },
          "metadata": {
            "tags": []
          },
          "execution_count": 27
        },
        {
          "output_type": "display_data",
          "data": {
            "image/png": "[encoded data removed]",
            "text/plain": [
              "<Figure size 720x432 with 1 Axes>"
            ]
          },
          "metadata": {
            "tags": [],
            "needs_background": "light"
          }
        }
      ]
    },
    {
      "cell_type": "markdown",
      "metadata": {
        "id": "LXnLrt22qdFP"
      },
      "source": [
        "##Polynomial Curve"
      ]
    },
    {
      "cell_type": "code",
      "metadata": {
        "colab": {
          "base_uri": "https://localhost:8080/",
          "height": 0
        },
        "id": "x0DUjK9zoaLr",
        "outputId": "dd58da85-33f0-4a6b-f528-a582aca5ba1a"
      },
      "source": [
        "def linear_regressor(X,y):\n",
        "  X = np.array(X)\n",
        "  y = np.array(y)\n",
        "  n = X.size\n",
        "  w0 = (y.mean()*np.sum(X**2)-X.mean()*np.sum(X*y)) / (np.sum(X**2) - n*X.mean()**2)\n",
        "  w1 = (np.sum(X*y) - X.mean()*np.sum(y)) / (np.sum(X**2) - n*X.mean()**2)\n",
        "  return w0,w1\n",
        "w0,w1 = linear_regressor(X,y)\n",
        "print(\"Linear Regression Equation: y = {:.3f}x + {:.3f}\".format(w1, w0))"
      ],
      "execution_count": 28,
      "outputs": [
        {
          "output_type": "stream",
          "text": [
            "Linear Regression Equation: y = 696.883x + 152.133\n"
          ],
          "name": "stdout"
        }
      ]
    },
    {
      "cell_type": "code",
      "metadata": {
        "colab": {
          "base_uri": "https://localhost:8080/",
          "height": 320
        },
        "id": "OrSlTRjYo7uU",
        "outputId": "7f098bcf-894a-41dd-b31a-6bd2e429d188"
      },
      "source": [
        "def show_regline(X,y,w1,w0):\n",
        "  x_min, x_max = X.min() - 1, X.max() + 1\n",
        "  linex = np.linspace(x_min, x_max)\n",
        "  liney = w1*linex+w0\n",
        "  plt.figure(figsize=(5,5))\n",
        "  plt.grid()\n",
        "  plt.scatter(X,y, alpha=0.5)\n",
        "  plt.plot(linex, liney, c='green')\n",
        "  plt.show()\n",
        "show_regline(X,y,w1,w0)"
      ],
      "execution_count": 29,
      "outputs": [
        {
          "output_type": "display_data",
          "data": {
            "image/png": "[encoded data removed]",
            "text/plain": [
              "<Figure size 360x360 with 1 Axes>"
            ]
          },
          "metadata": {
            "tags": [],
            "needs_background": "light"
          }
        }
      ]
    },
    {
      "cell_type": "code",
      "metadata": {
        "colab": {
          "base_uri": "https://localhost:8080/",
          "height": 338
        },
        "id": "KjdPd05spD2W",
        "outputId": "488039ce-0425-47d9-8247-390acbbf4c57"
      },
      "source": [
        "def lin_reg(val,w0,w1):\n",
        "  return w1*val + w0 #model\n",
        "print(lin_reg(10, w0, w1))\n",
        "X_new, y_new = X.copy(), y.copy()\n",
        "for i in range(10,16):\n",
        "  X_new = np.insert(X_new,-1, i)\n",
        "  y_new = np.insert(y_new,-1, lin_reg(i,w0,w1))\n",
        "show_regline(X_new, y_new, w1, w0)"
      ],
      "execution_count": 30,
      "outputs": [
        {
          "output_type": "stream",
          "text": [
            "7120.963785085329\n"
          ],
          "name": "stdout"
        },
        {
          "output_type": "display_data",
          "data": {
            "image/png": "[encoded data removed]",
            "text/plain": [
              "<Figure size 360x360 with 1 Axes>"
            ]
          },
          "metadata": {
            "tags": [],
            "needs_background": "light"
          }
        }
      ]
    },
    {
      "cell_type": "code",
      "metadata": {
        "id": "I4l8q0zspa8X"
      },
      "source": [
        "X_1 = np.arange(0, 13,1)\n",
        "y_1 = X_1 - 2 * (X_1 ** 2) + 0.5 * (X_1 ** 3) + np.random.normal(-3, 3, 13)"
      ],
      "execution_count": 31,
      "outputs": []
    },
    {
      "cell_type": "code",
      "metadata": {
        "id": "AF24E9ctpeJd"
      },
      "source": [
        "def show_regline(X,y,w1,w0):\n",
        "  x_min, x_max = X.min() - 1, X.max() + 1\n",
        "  linex = np.linspace(x_min, x_max)\n",
        "  liney = w1*linex+w0\n",
        "  plt.figure(figsize=(5,5))\n",
        "  plt.grid()\n",
        "  plt.scatter(X_1,y_1, s = 256, color='blue', alpha=0.5)\n",
        "  plt.plot(linex, liney, c='green')\n",
        "  plt.show()"
      ],
      "execution_count": 32,
      "outputs": []
    },
    {
      "cell_type": "code",
      "metadata": {
        "id": "np2xLPERplm3"
      },
      "source": [
        "def linear_regressor(X,y):\n",
        "  X = np.array(X)\n",
        "  y = np.array(y)\n",
        "  n = X.size\n",
        "  w0 = (y.mean()*np.sum(X**2)-X.mean()*np.sum(X*y)) / (np.sum(X**2) - n*X.mean()**2)\n",
        "  w1 = (np.sum(X*y) - X.mean()*np.sum(y)) / (np.sum(X**2) - n*X.mean()**2)\n",
        "  return w0,w1\n",
        "w0,w1 = linear_regressor(X,y)"
      ],
      "execution_count": 33,
      "outputs": []
    },
    {
      "cell_type": "code",
      "metadata": {
        "colab": {
          "base_uri": "https://localhost:8080/",
          "height": 320
        },
        "id": "VaBiG6qIpoFm",
        "outputId": "c7623849-bf4e-4926-ddfb-4cb50834f916"
      },
      "source": [
        "w0_q,w1_q = linear_regressor(X_1, y_1)\n",
        "show_regline(X_1,y_1,w0_q,w1_q)"
      ],
      "execution_count": 34,
      "outputs": [
        {
          "output_type": "display_data",
          "data": {
            "image/png": "[encoded data removed]",
            "text/plain": [
              "<Figure size 360x360 with 1 Axes>"
            ]
          },
          "metadata": {
            "tags": [],
            "needs_background": "light"
          }
        }
      ]
    },
    {
      "cell_type": "code",
      "metadata": {
        "id": "_wXhlGk4uMep"
      },
      "source": [
        ""
      ],
      "execution_count": 34,
      "outputs": []
    },
    {
      "cell_type": "markdown",
      "metadata": {
        "id": "ZZ61baPutAd7"
      },
      "source": [
        "##**References:**\n",
        "[1] “7.1. Toy datasets — scikit-learn 0.24.2 documentation.” https://scikit-learn.org/stable/datasets/toy_dataset.html (accessed May 05, 2021).\n",
        "\n",
        "[2] “numeth2021/NuMeth_4_5_Applied_Linear_Regression.ipynb at main · dyjdlopez/numeth2021 · GitHub.” https://github.com/dyjdlopez/numeth2021/blob/main/Week%209-13%20-%20Curve%20Fitting%20Techniques/NuMeth_4_5_Applied_Linear_Regression.ipynb (accessed May 05, 2021).\n",
        "\n",
        "[3] “numeth2021/NuMeth_4_Curve_Fitting.ipynb at main · dyjdlopez/numeth2021 · GitHub.” https://github.com/dyjdlopez/numeth2021/blob/main/Week%209-13%20-%20Curve%20Fitting%20Techniques/NuMeth_4_Curve_Fitting.ipynb (accessed May 05, 2021). \n",
        "\n",
        "[4] “Implementing and Visualizing Linear Regression in Python with SciKit Learn | by Sthitaprajna Mishra | Becoming Human: Artificial Intelligence Magazine.” https://becominghuman.ai/implementing-and-visualizing-linear-regression-in-python-with-scikit-learn-a073768dc688 (accessed May 05, 2021). \n",
        "\n",
        "[5] “Implementation of Simple Linear Regression Using Normal Equation(Matrices) | by Pratik Shukla | Medium.” https://medium.com/@shuklapratik22/implementation-of-simple-linear-regression-using-normal-equation-matrices-f9021c3590da (accessed May 05, 2021).\n"
      ]
    }
  ]
}