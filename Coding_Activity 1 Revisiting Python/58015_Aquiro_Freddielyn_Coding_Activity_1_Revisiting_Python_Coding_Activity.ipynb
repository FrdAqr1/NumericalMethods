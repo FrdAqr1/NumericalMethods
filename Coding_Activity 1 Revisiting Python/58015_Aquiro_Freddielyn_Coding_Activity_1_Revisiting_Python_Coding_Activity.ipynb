{
  "nbformat": 4,
  "nbformat_minor": 0,
  "metadata": {
    "colab": {
      "name": "Coding Activity 1: Revisiting Python Coding Activity.ipynb",
      "provenance": [],
      "collapsed_sections": []
    },
    "kernelspec": {
      "name": "python3",
      "display_name": "Python 3"
    }
  },
  "cells": [
    {
      "cell_type": "markdown",
      "metadata": {
        "id": "view-in-github"
      },
      "source": [
        "# **Numerical Methods for CpE**\r\n",
        "\r\n",
        "# **Coding Activity 1: Revisiting Python **\r\n",
        "February 15, 2021\r\n",
        "\r\n",
        "**Coded and submitted by**:\r\n",
        "\r\n",
        "***Aquiro, Freddielyn E.***\r\n",
        "\r\n",
        "58015"
      ]
    },
    {
      "cell_type": "markdown",
      "metadata": {
        "id": "QnAdk8hy7Bl9"
      },
      "source": [
        "# Welcome to Python Fundamentals\r\n",
        "In this module, we are going to establish or review our skills in Python programming. In this notebook we are going to cover:\r\n",
        "* Variables and Data Types \r\n",
        "* Operations\r\n",
        "* Input and Output Operations\r\n",
        "* Logic Control\r\n",
        "* Iterables\r\n",
        "* Functions"
      ]
    },
    {
      "cell_type": "markdown",
      "metadata": {
        "id": "T6ABRAjTT1Ta"
      },
      "source": [
        "## Variable and Data Types"
      ]
    },
    {
      "cell_type": "markdown",
      "metadata": {
        "id": "9_LFNYNXnflm"
      },
      "source": [
        "Variables are the reserved memory which stores location values. [1] Data types are stored memory which can have many types such as numbers, strings ,lists,tuples, and dictionaries. [1] "
      ]
    },
    {
      "cell_type": "code",
      "metadata": {
        "id": "G8JI3DTZ616F"
      },
      "source": [
        "x = 1\r\n",
        "a,b = 0, -1"
      ],
      "execution_count": null,
      "outputs": []
    },
    {
      "cell_type": "code",
      "metadata": {
        "id": "QLT9rz2dUJ95",
        "colab": {
          "base_uri": "https://localhost:8080/"
        },
        "outputId": "e85306b8-57d8-4f1d-bd01-970b2bff7b24"
      },
      "source": [
        "type(x)"
      ],
      "execution_count": null,
      "outputs": [
        {
          "output_type": "execute_result",
          "data": {
            "text/plain": [
              "int"
            ]
          },
          "metadata": {
            "tags": []
          },
          "execution_count": 3
        }
      ]
    },
    {
      "cell_type": "code",
      "metadata": {
        "id": "TR_rvX4SUWqx",
        "colab": {
          "base_uri": "https://localhost:8080/"
        },
        "outputId": "3255f55d-5fb8-4208-e6c2-bf2901919784"
      },
      "source": [
        "y = 1.0\r\n",
        "type(y)"
      ],
      "execution_count": null,
      "outputs": [
        {
          "output_type": "execute_result",
          "data": {
            "text/plain": [
              "float"
            ]
          },
          "metadata": {
            "tags": []
          },
          "execution_count": 4
        }
      ]
    },
    {
      "cell_type": "code",
      "metadata": {
        "id": "FqV2upOiXcnC",
        "colab": {
          "base_uri": "https://localhost:8080/"
        },
        "outputId": "cd425903-b801-4fe2-c70d-c6fab1d9ddb3"
      },
      "source": [
        "x = float(x)\r\n",
        "type(x)"
      ],
      "execution_count": null,
      "outputs": [
        {
          "output_type": "execute_result",
          "data": {
            "text/plain": [
              "float"
            ]
          },
          "metadata": {
            "tags": []
          },
          "execution_count": 5
        }
      ]
    },
    {
      "cell_type": "code",
      "metadata": {
        "id": "2tuyqwmyXiDb",
        "colab": {
          "base_uri": "https://localhost:8080/"
        },
        "outputId": "92f82dcd-a1d1-4bfd-dc9e-c56d3579741e"
      },
      "source": [
        "s,t,u = \"0\", '1', 'one'\r\n",
        "type(s)"
      ],
      "execution_count": null,
      "outputs": [
        {
          "output_type": "execute_result",
          "data": {
            "text/plain": [
              "str"
            ]
          },
          "metadata": {
            "tags": []
          },
          "execution_count": 6
        }
      ]
    },
    {
      "cell_type": "code",
      "metadata": {
        "id": "6JwWqHx3XlmB",
        "colab": {
          "base_uri": "https://localhost:8080/"
        },
        "outputId": "266d0ab6-fe44-4854-86dd-a1efa23742a9"
      },
      "source": [
        "s_int = int(s)\r\n",
        "s_int"
      ],
      "execution_count": null,
      "outputs": [
        {
          "output_type": "execute_result",
          "data": {
            "text/plain": [
              "0"
            ]
          },
          "metadata": {
            "tags": []
          },
          "execution_count": 7
        }
      ]
    },
    {
      "cell_type": "markdown",
      "metadata": {
        "id": "9RgPwQR4YVG5"
      },
      "source": [
        "## Operations"
      ]
    },
    {
      "cell_type": "markdown",
      "metadata": {
        "id": "mvoS_zuJYbsg"
      },
      "source": [
        "### Arithmetic"
      ]
    },
    {
      "cell_type": "markdown",
      "metadata": {
        "id": "C3NShP8JNsAR"
      },
      "source": [
        "This are type of operators are used to perform math operations such as addition, subtraction, multiplication, and ,division. [2]"
      ]
    },
    {
      "cell_type": "code",
      "metadata": {
        "id": "a6Jr05BIOCxB"
      },
      "source": [
        ""
      ],
      "execution_count": null,
      "outputs": []
    },
    {
      "cell_type": "code",
      "metadata": {
        "id": "DSjUO0KcYoE-"
      },
      "source": [
        "a,b,c,d = 2.0, -0.5, 0, -32"
      ],
      "execution_count": null,
      "outputs": []
    },
    {
      "cell_type": "code",
      "metadata": {
        "id": "o_kk0XFzYX9o",
        "colab": {
          "base_uri": "https://localhost:8080/"
        },
        "outputId": "b208b4bf-2449-4547-c9b4-d11b684fb86f"
      },
      "source": [
        "### Addition\r\n",
        "S = a+b\r\n",
        "S"
      ],
      "execution_count": null,
      "outputs": [
        {
          "output_type": "execute_result",
          "data": {
            "text/plain": [
              "1.5"
            ]
          },
          "metadata": {
            "tags": []
          },
          "execution_count": 9
        }
      ]
    },
    {
      "cell_type": "code",
      "metadata": {
        "id": "TC5oFq3MY4jk",
        "colab": {
          "base_uri": "https://localhost:8080/"
        },
        "outputId": "b167e558-fbcd-4ad0-c532-834d8cc59139"
      },
      "source": [
        "### Subtraction\r\n",
        "D = b-d\r\n",
        "D"
      ],
      "execution_count": null,
      "outputs": [
        {
          "output_type": "execute_result",
          "data": {
            "text/plain": [
              "31.5"
            ]
          },
          "metadata": {
            "tags": []
          },
          "execution_count": 10
        }
      ]
    },
    {
      "cell_type": "code",
      "metadata": {
        "id": "j0bGayj5Y9wr",
        "colab": {
          "base_uri": "https://localhost:8080/"
        },
        "outputId": "9e2435ab-a374-4f58-9388-b8cb4b8f88c2"
      },
      "source": [
        "### Multiplication\r\n",
        "P = a*d\r\n",
        "P"
      ],
      "execution_count": null,
      "outputs": [
        {
          "output_type": "execute_result",
          "data": {
            "text/plain": [
              "-64.0"
            ]
          },
          "metadata": {
            "tags": []
          },
          "execution_count": 11
        }
      ]
    },
    {
      "cell_type": "code",
      "metadata": {
        "id": "FnMWmq5LZLEU",
        "colab": {
          "base_uri": "https://localhost:8080/"
        },
        "outputId": "7af263bc-e15f-4374-ae87-76426aaf72a4"
      },
      "source": [
        "### Division\r\n",
        "Q = c/a\r\n",
        "Q"
      ],
      "execution_count": null,
      "outputs": [
        {
          "output_type": "execute_result",
          "data": {
            "text/plain": [
              "0.0"
            ]
          },
          "metadata": {
            "tags": []
          },
          "execution_count": 12
        }
      ]
    },
    {
      "cell_type": "code",
      "metadata": {
        "id": "cQeVcFIWZd8o",
        "colab": {
          "base_uri": "https://localhost:8080/"
        },
        "outputId": "50ff4c21-5c61-4fef-c367-407959d69695"
      },
      "source": [
        "### Floor Division\r\n",
        "Fq = a//b\r\n",
        "Fq"
      ],
      "execution_count": null,
      "outputs": [
        {
          "output_type": "execute_result",
          "data": {
            "text/plain": [
              "-4.0"
            ]
          },
          "metadata": {
            "tags": []
          },
          "execution_count": 13
        }
      ]
    },
    {
      "cell_type": "code",
      "metadata": {
        "id": "YLaUu6APZSzR",
        "colab": {
          "base_uri": "https://localhost:8080/"
        },
        "outputId": "1bebe4a1-5228-4850-e535-ed15a1a02755"
      },
      "source": [
        "### Exponentiation\r\n",
        "E = a**b\r\n",
        "E"
      ],
      "execution_count": null,
      "outputs": [
        {
          "output_type": "execute_result",
          "data": {
            "text/plain": [
              "0.7071067811865476"
            ]
          },
          "metadata": {
            "tags": []
          },
          "execution_count": 14
        }
      ]
    },
    {
      "cell_type": "code",
      "metadata": {
        "id": "uf_0sf4CZ1JT",
        "colab": {
          "base_uri": "https://localhost:8080/"
        },
        "outputId": "4218a93c-2fb2-4daa-f21e-fd90f7ca3ac2"
      },
      "source": [
        "### Modulo\r\n",
        "mod = d%a\r\n",
        "mod"
      ],
      "execution_count": null,
      "outputs": [
        {
          "output_type": "execute_result",
          "data": {
            "text/plain": [
              "0.0"
            ]
          },
          "metadata": {
            "tags": []
          },
          "execution_count": 15
        }
      ]
    },
    {
      "cell_type": "markdown",
      "metadata": {
        "id": "afyWvb1ZaJJ6"
      },
      "source": [
        "### Assignment Operations"
      ]
    },
    {
      "cell_type": "markdown",
      "metadata": {
        "id": "lzO5thbJOV9x"
      },
      "source": [
        "This operators used to assigned values to variable. [3]"
      ]
    },
    {
      "cell_type": "code",
      "metadata": {
        "id": "rMZ8r4WhanaE"
      },
      "source": [
        "G, H, J, K = 0, 100, 2, 2"
      ],
      "execution_count": null,
      "outputs": []
    },
    {
      "cell_type": "code",
      "metadata": {
        "id": "IX0EbJ8RaMih",
        "colab": {
          "base_uri": "https://localhost:8080/"
        },
        "outputId": "bbed727a-27a1-45b0-ea64-85510c4e13d7"
      },
      "source": [
        "G += a\r\n",
        "G"
      ],
      "execution_count": null,
      "outputs": [
        {
          "output_type": "execute_result",
          "data": {
            "text/plain": [
              "2.0"
            ]
          },
          "metadata": {
            "tags": []
          },
          "execution_count": 17
        }
      ]
    },
    {
      "cell_type": "code",
      "metadata": {
        "id": "aIj4hA-JaRA0"
      },
      "source": [
        "H -= d"
      ],
      "execution_count": null,
      "outputs": []
    },
    {
      "cell_type": "code",
      "metadata": {
        "id": "vuuDbAbNaXgS",
        "colab": {
          "base_uri": "https://localhost:8080/"
        },
        "outputId": "b09d74c8-646b-4120-e696-007c4d500f28"
      },
      "source": [
        "J *= 2\r\n",
        "J"
      ],
      "execution_count": null,
      "outputs": [
        {
          "output_type": "execute_result",
          "data": {
            "text/plain": [
              "4"
            ]
          },
          "metadata": {
            "tags": []
          },
          "execution_count": 19
        }
      ]
    },
    {
      "cell_type": "code",
      "metadata": {
        "id": "sGVXGduUaeAj",
        "colab": {
          "base_uri": "https://localhost:8080/"
        },
        "outputId": "bfb3ea7b-2ccc-4e19-afaf-03d5d2f9642e"
      },
      "source": [
        "K **= 2\r\n",
        "K"
      ],
      "execution_count": null,
      "outputs": [
        {
          "output_type": "execute_result",
          "data": {
            "text/plain": [
              "4"
            ]
          },
          "metadata": {
            "tags": []
          },
          "execution_count": 20
        }
      ]
    },
    {
      "cell_type": "markdown",
      "metadata": {
        "id": "UGXuqhVNbW7R"
      },
      "source": [
        "### Comparators"
      ]
    },
    {
      "cell_type": "markdown",
      "metadata": {
        "id": "I_DMYvo3OtPv"
      },
      "source": [
        "This operatores are used to compare values. It returns to a value of a TRUE or FALSE. [4]"
      ]
    },
    {
      "cell_type": "code",
      "metadata": {
        "id": "Oj9xLaEaYeuY"
      },
      "source": [
        "res_1, res_2, res_3 = 1, 2.0, \"1\"\r\n",
        "true_val = 1.0"
      ],
      "execution_count": null,
      "outputs": []
    },
    {
      "cell_type": "code",
      "metadata": {
        "id": "GEXm6RSsbA8Q",
        "colab": {
          "base_uri": "https://localhost:8080/"
        },
        "outputId": "d82a81e8-6db0-4e4c-8a40-c208d51a7d42"
      },
      "source": [
        "## Equality\r\n",
        "res_1 == true_val"
      ],
      "execution_count": null,
      "outputs": [
        {
          "output_type": "execute_result",
          "data": {
            "text/plain": [
              "True"
            ]
          },
          "metadata": {
            "tags": []
          },
          "execution_count": 22
        }
      ]
    },
    {
      "cell_type": "code",
      "metadata": {
        "id": "SdHk_b58bZhD",
        "colab": {
          "base_uri": "https://localhost:8080/"
        },
        "outputId": "64f15dd2-884f-46f5-e578-278640b3214c"
      },
      "source": [
        "## Non-equality\r\n",
        "res_2 != true_val"
      ],
      "execution_count": null,
      "outputs": [
        {
          "output_type": "execute_result",
          "data": {
            "text/plain": [
              "True"
            ]
          },
          "metadata": {
            "tags": []
          },
          "execution_count": 23
        }
      ]
    },
    {
      "cell_type": "code",
      "metadata": {
        "id": "EnA4q50JbQB5",
        "colab": {
          "base_uri": "https://localhost:8080/"
        },
        "outputId": "72734ae0-24d2-49d3-b767-af027a21c8af"
      },
      "source": [
        "## Inequality\r\n",
        "t1 = res_1 > res_2\r\n",
        "t2 = res_1 < res_2/2\r\n",
        "t3 = res_1 >= res_2/2\r\n",
        "t4 = res_1 <= res_2  \r\n",
        "t1"
      ],
      "execution_count": null,
      "outputs": [
        {
          "output_type": "execute_result",
          "data": {
            "text/plain": [
              "False"
            ]
          },
          "metadata": {
            "tags": []
          },
          "execution_count": 24
        }
      ]
    },
    {
      "cell_type": "markdown",
      "metadata": {
        "id": "9WkfdvbfcC1Y"
      },
      "source": [
        "### Logical"
      ]
    },
    {
      "cell_type": "markdown",
      "metadata": {
        "id": "xfLibBRxO_UQ"
      },
      "source": [
        "This operators are used \"and\", \"or\" and \"not.\" [5]"
      ]
    },
    {
      "cell_type": "code",
      "metadata": {
        "id": "cYVG6YeNb-Gz",
        "colab": {
          "base_uri": "https://localhost:8080/"
        },
        "outputId": "b0860c1d-cc0c-4ebe-94a5-b821a652c156"
      },
      "source": [
        "res_1 == true_val"
      ],
      "execution_count": null,
      "outputs": [
        {
          "output_type": "execute_result",
          "data": {
            "text/plain": [
              "True"
            ]
          },
          "metadata": {
            "tags": []
          },
          "execution_count": 25
        }
      ]
    },
    {
      "cell_type": "code",
      "metadata": {
        "id": "rLe6hpkHcN-z",
        "colab": {
          "base_uri": "https://localhost:8080/"
        },
        "outputId": "80745df6-846b-4473-cee0-75e868cd0157"
      },
      "source": [
        "res_1 is true_val"
      ],
      "execution_count": null,
      "outputs": [
        {
          "output_type": "execute_result",
          "data": {
            "text/plain": [
              "False"
            ]
          },
          "metadata": {
            "tags": []
          },
          "execution_count": 26
        }
      ]
    },
    {
      "cell_type": "code",
      "metadata": {
        "id": "tr5qxHQmcO-C",
        "colab": {
          "base_uri": "https://localhost:8080/"
        },
        "outputId": "50129249-7860-4d06-fe59-fea56f02a60d"
      },
      "source": [
        "res_1 is not true_val"
      ],
      "execution_count": null,
      "outputs": [
        {
          "output_type": "execute_result",
          "data": {
            "text/plain": [
              "True"
            ]
          },
          "metadata": {
            "tags": []
          },
          "execution_count": 27
        }
      ]
    },
    {
      "cell_type": "code",
      "metadata": {
        "id": "3GU72N-Gcslz",
        "colab": {
          "base_uri": "https://localhost:8080/"
        },
        "outputId": "01416f98-fecd-4c5c-8074-b93e5494a858"
      },
      "source": [
        "p, q = True, False\r\n",
        "conj = p and q\r\n",
        "conj"
      ],
      "execution_count": null,
      "outputs": [
        {
          "output_type": "execute_result",
          "data": {
            "text/plain": [
              "False"
            ]
          },
          "metadata": {
            "tags": []
          },
          "execution_count": 28
        }
      ]
    },
    {
      "cell_type": "code",
      "metadata": {
        "id": "ihMxcT6KcvQj",
        "colab": {
          "base_uri": "https://localhost:8080/"
        },
        "outputId": "0930c619-1fce-4817-b2e1-145eb15483e8"
      },
      "source": [
        "p, q = True, False\r\n",
        "disj = p or q\r\n",
        "disj"
      ],
      "execution_count": null,
      "outputs": [
        {
          "output_type": "execute_result",
          "data": {
            "text/plain": [
              "True"
            ]
          },
          "metadata": {
            "tags": []
          },
          "execution_count": 29
        }
      ]
    },
    {
      "cell_type": "code",
      "metadata": {
        "id": "T-QfmeYgcyGQ",
        "colab": {
          "base_uri": "https://localhost:8080/"
        },
        "outputId": "265c732e-db69-4604-d6e9-7957d2d51843"
      },
      "source": [
        "p, q = True, False\r\n",
        "nand = not(p and q)\r\n",
        "nand"
      ],
      "execution_count": null,
      "outputs": [
        {
          "output_type": "execute_result",
          "data": {
            "text/plain": [
              "True"
            ]
          },
          "metadata": {
            "tags": []
          },
          "execution_count": 30
        }
      ]
    },
    {
      "cell_type": "code",
      "metadata": {
        "id": "2HL7SlVbc10k",
        "colab": {
          "base_uri": "https://localhost:8080/"
        },
        "outputId": "029b2425-7212-40f7-d2af-45adbed27859"
      },
      "source": [
        "p, q = True, False\r\n",
        "xor = (not p and q) or (p and not q)\r\n",
        "xor"
      ],
      "execution_count": null,
      "outputs": [
        {
          "output_type": "execute_result",
          "data": {
            "text/plain": [
              "True"
            ]
          },
          "metadata": {
            "tags": []
          },
          "execution_count": 31
        }
      ]
    },
    {
      "cell_type": "markdown",
      "metadata": {
        "id": "AQx4DKafYffJ"
      },
      "source": [
        "### I/O"
      ]
    },
    {
      "cell_type": "code",
      "metadata": {
        "id": "Q-DVERG5Yk9w",
        "colab": {
          "base_uri": "https://localhost:8080/"
        },
        "outputId": "858e255c-4e17-4b5f-e811-5e2904b5bf81"
      },
      "source": [
        "print(\"Hello World\")"
      ],
      "execution_count": null,
      "outputs": [
        {
          "output_type": "stream",
          "text": [
            "Hello World\n"
          ],
          "name": "stdout"
        }
      ]
    },
    {
      "cell_type": "code",
      "metadata": {
        "id": "fS5wN51beSVF"
      },
      "source": [
        "cnt = 1"
      ],
      "execution_count": null,
      "outputs": []
    },
    {
      "cell_type": "code",
      "metadata": {
        "id": "hKNaUXmdZdUo",
        "colab": {
          "base_uri": "https://localhost:8080/"
        },
        "outputId": "aa2e047a-04c3-4c51-eae9-cfe0dee5e78b"
      },
      "source": [
        "string = \"Hello World\"\r\n",
        "print(string, \", Current run count is:\", cnt)\r\n",
        "cnt += 1"
      ],
      "execution_count": null,
      "outputs": [
        {
          "output_type": "stream",
          "text": [
            "Hello World , Current run count is: 1\n"
          ],
          "name": "stdout"
        }
      ]
    },
    {
      "cell_type": "code",
      "metadata": {
        "id": "15_WdzEZcOVX",
        "colab": {
          "base_uri": "https://localhost:8080/"
        },
        "outputId": "65cdf3f9-2b3e-4fec-a8a1-259e2fb2bfe0"
      },
      "source": [
        "print(f\"{string}, Current count is: {cnt}\")"
      ],
      "execution_count": null,
      "outputs": [
        {
          "output_type": "stream",
          "text": [
            "Hello World, Current count is: 2\n"
          ],
          "name": "stdout"
        }
      ]
    },
    {
      "cell_type": "code",
      "metadata": {
        "id": "5m9XtFOPcOXo",
        "colab": {
          "base_uri": "https://localhost:8080/"
        },
        "outputId": "77617788-088b-40d3-f9fb-f8876e6693ff"
      },
      "source": [
        "sem_grade = 82.243564657461234\r\n",
        "name = \"\"\r\n",
        "print(\"Hello {}, your semestral grade is: {}\".format(name, sem_grade))"
      ],
      "execution_count": null,
      "outputs": [
        {
          "output_type": "stream",
          "text": [
            "Hello , your semestral grade is: 82.24356465746123\n"
          ],
          "name": "stdout"
        }
      ]
    },
    {
      "cell_type": "code",
      "metadata": {
        "id": "SMJx6bTnfdgZ",
        "colab": {
          "base_uri": "https://localhost:8080/"
        },
        "outputId": "e3ba14ff-bdb1-4cd4-91c5-723d791696a3"
      },
      "source": [
        "w_pg, w_mg, w_fg = 0.3, 0.3, 0.4\r\n",
        "print(\"The weights of your semestral grades are:\\\r\n",
        "\\n\\t{:.2%} for Prelims\\\r\n",
        "\\n\\t{:.2%} for Midterms, and\\\r\n",
        "\\n\\t{:.2%} for Finals.\".format(w_pg, w_mg, w_fg))"
      ],
      "execution_count": null,
      "outputs": [
        {
          "output_type": "stream",
          "text": [
            "The weights of your semestral grades are:\n",
            "\t30.00% for Prelims\n",
            "\t30.00% for Midterms, and\n",
            "\t40.00% for Finals.\n"
          ],
          "name": "stdout"
        }
      ]
    },
    {
      "cell_type": "code",
      "metadata": {
        "id": "Ob2I_zR3jAcZ",
        "colab": {
          "base_uri": "https://localhost:8080/",
          "height": 54
        },
        "outputId": "bb6aacc4-2869-49a6-f567-6a6887ac5b66"
      },
      "source": [
        "x = input(\"enter a number: \")\r\n",
        "x"
      ],
      "execution_count": null,
      "outputs": [
        {
          "output_type": "stream",
          "text": [
            "enter a number: 1\n"
          ],
          "name": "stdout"
        },
        {
          "output_type": "execute_result",
          "data": {
            "application/vnd.google.colaboratory.intrinsic+json": {
              "type": "string"
            },
            "text/plain": [
              "'1'"
            ]
          },
          "metadata": {
            "tags": []
          },
          "execution_count": 38
        }
      ]
    },
    {
      "cell_type": "code",
      "metadata": {
        "id": "T7ODFfcMh9Pg",
        "colab": {
          "base_uri": "https://localhost:8080/"
        },
        "outputId": "6b3fb546-ca89-4468-e696-dd7b36ef1e39"
      },
      "source": [
        "name = input(\"Kimi no nawa: \")\r\n",
        "pg = input(\"Enter prelim grade: \")\r\n",
        "mg = input(\"Enter midterm grade: \")\r\n",
        "fg = input(\"Enter finals grade: \")\r\n",
        "sem_grade = None\r\n",
        "print(\"Hello {}, your semestral grade is: {}\".format(name, sem_grade))"
      ],
      "execution_count": null,
      "outputs": [
        {
          "output_type": "stream",
          "text": [
            "Kimi no nawa: Fred\n",
            "Enter prelim grade: 100 \n",
            "Enter midterm grade: 98\n",
            "Enter finals grade: 98\n",
            "Hello Fred, your semestral grade is: None\n"
          ],
          "name": "stdout"
        }
      ]
    },
    {
      "cell_type": "markdown",
      "metadata": {
        "id": "i0g3EothhvqL"
      },
      "source": [
        "# Looping Statements"
      ]
    },
    {
      "cell_type": "markdown",
      "metadata": {
        "id": "WLUsnU4DPg5H"
      },
      "source": [
        "Looping statements allows to execute a statement or group statements multiple times or in short first statement in a function is executed follwed by the second condition and up to the end line. [6]"
      ]
    },
    {
      "cell_type": "markdown",
      "metadata": {
        "id": "j4w90VAIjcFJ"
      },
      "source": [
        "## While"
      ]
    },
    {
      "cell_type": "markdown",
      "metadata": {
        "id": "q8FFnRyPQwi5"
      },
      "source": [
        "While loop is used to iterate a block of code which test the condition if it is true. [7] "
      ]
    },
    {
      "cell_type": "code",
      "metadata": {
        "id": "4vtSrBPThlse",
        "colab": {
          "base_uri": "https://localhost:8080/"
        },
        "outputId": "9415af18-d3d3-4bc9-f965-3978797353bd"
      },
      "source": [
        "## while loops\r\n",
        "i, j = 0, 10\r\n",
        "while(i<=j):\r\n",
        "    print(f\"{i}\\t|\\t{j}\")\r\n",
        "    i+=1"
      ],
      "execution_count": null,
      "outputs": [
        {
          "output_type": "stream",
          "text": [
            "0\t|\t10\n",
            "1\t|\t10\n",
            "2\t|\t10\n",
            "3\t|\t10\n",
            "4\t|\t10\n",
            "5\t|\t10\n",
            "6\t|\t10\n",
            "7\t|\t10\n",
            "8\t|\t10\n",
            "9\t|\t10\n",
            "10\t|\t10\n"
          ],
          "name": "stdout"
        }
      ]
    },
    {
      "cell_type": "markdown",
      "metadata": {
        "id": "Qz6AH6jRjfUg"
      },
      "source": [
        "## For"
      ]
    },
    {
      "cell_type": "markdown",
      "metadata": {
        "id": "ShCjYJDUReic"
      },
      "source": [
        "It is used for iterating over a sequence which is either list, tuple, dictionary or string. [8] "
      ]
    },
    {
      "cell_type": "code",
      "metadata": {
        "id": "q0DUwfRkjZY7",
        "colab": {
          "base_uri": "https://localhost:8080/"
        },
        "outputId": "5090bd03-e8a6-41a8-b777-74f02d26a869"
      },
      "source": [
        "# for(int i=0; i<10; i++){\r\n",
        "# printf(i)\r\n",
        "# }\r\n",
        "\r\n",
        "i=0\r\n",
        "for i in range(10):\r\n",
        "    print(i)"
      ],
      "execution_count": null,
      "outputs": [
        {
          "output_type": "stream",
          "text": [
            "0\n",
            "1\n",
            "2\n",
            "3\n",
            "4\n",
            "5\n",
            "6\n",
            "7\n",
            "8\n",
            "9\n"
          ],
          "name": "stdout"
        }
      ]
    },
    {
      "cell_type": "code",
      "metadata": {
        "id": "zaM--lUhjiUg",
        "colab": {
          "base_uri": "https://localhost:8080/"
        },
        "outputId": "a855b2bb-c62a-440b-9712-fd7034fbd16f"
      },
      "source": [
        "playlist = []\r\n",
        "print('Now Playing:\\n')\r\n",
        "for song in playlist:\r\n",
        "    print(song)"
      ],
      "execution_count": null,
      "outputs": [
        {
          "output_type": "stream",
          "text": [
            "Now Playing:\n",
            "\n"
          ],
          "name": "stdout"
        }
      ]
    },
    {
      "cell_type": "markdown",
      "metadata": {
        "id": "N6jTqTZojnSg"
      },
      "source": [
        "# Flow Control"
      ]
    },
    {
      "cell_type": "markdown",
      "metadata": {
        "id": "7GvoVeCBSLgJ"
      },
      "source": [
        "It used to regulated a conditional statements, loops and function calls. [9]"
      ]
    },
    {
      "cell_type": "markdown",
      "metadata": {
        "id": "uhnsV2CijrWQ"
      },
      "source": [
        "## Condition Statements"
      ]
    },
    {
      "cell_type": "markdown",
      "metadata": {
        "id": "a6aoOkF_SxiS"
      },
      "source": [
        "Conditional Statements are handled by if, else, and switch case in python. [10] "
      ]
    },
    {
      "cell_type": "code",
      "metadata": {
        "id": "seJplrJojmTg",
        "colab": {
          "base_uri": "https://localhost:8080/"
        },
        "outputId": "384252f2-5910-438c-8359-480a6f43821b"
      },
      "source": [
        "numeral1, numeral2 = 12, 12\r\n",
        "if(numeral1 == numeral2):\r\n",
        "    print(\"Yey\")\r\n",
        "elif(numeral1>numeral2):\r\n",
        "    print(\"Hoho\")\r\n",
        "else:\r\n",
        "    print(\"Aww\")\r\n",
        "print(\"Hip hip\")"
      ],
      "execution_count": null,
      "outputs": [
        {
          "output_type": "stream",
          "text": [
            "Yey\n",
            "Hip hip\n"
          ],
          "name": "stdout"
        }
      ]
    },
    {
      "cell_type": "markdown",
      "metadata": {
        "id": "tlnG1OKilNLo"
      },
      "source": [
        "# Functions"
      ]
    },
    {
      "cell_type": "markdown",
      "metadata": {
        "id": "xqMvWWccTd74"
      },
      "source": [
        "It is a block of code that only runs when it called. It passes through date or which is called parameters. [11] "
      ]
    },
    {
      "cell_type": "code",
      "metadata": {
        "id": "1iMUEipnlUKY"
      },
      "source": [
        "# void DeleteUser(int userid){\r\n",
        "#     delete(userid);\r\n",
        "# }\r\n",
        "\r\n",
        "def delete_user (userid):\r\n",
        "    print(\"Successfully deleted user: {}\".format(userid))\r\n",
        "    \r\n",
        "def delete_all_users ():\r\n",
        "    print(\"Successfully deleted all users\")"
      ],
      "execution_count": null,
      "outputs": []
    },
    {
      "cell_type": "code",
      "metadata": {
        "id": "v_TkrftylUEA",
        "colab": {
          "base_uri": "https://localhost:8080/"
        },
        "outputId": "fbecde7e-86bd-4bfd-e4ab-bb6b69933c07"
      },
      "source": [
        "userid = 0\r\n",
        "delete_user(0)\r\n",
        "delete_all_users()"
      ],
      "execution_count": null,
      "outputs": [
        {
          "output_type": "stream",
          "text": [
            "Successfully deleted user: 0\n",
            "Successfully deleted all users\n"
          ],
          "name": "stdout"
        }
      ]
    },
    {
      "cell_type": "code",
      "metadata": {
        "id": "M0ffjw31lT8Y"
      },
      "source": [
        "def add(addend1, addend2):\r\n",
        "    return addend1 + addend2\r\n",
        "\r\n",
        "def power_of_base2(exponent):\r\n",
        "    return 2**exponent"
      ],
      "execution_count": null,
      "outputs": []
    },
    {
      "cell_type": "markdown",
      "metadata": {
        "id": "2_tDT01oFEGQ"
      },
      "source": [
        "### Lambda Functions"
      ]
    },
    {
      "cell_type": "markdown",
      "metadata": {
        "id": "gGXWaSltT3Oh"
      },
      "source": [
        "Function that can take any number of an arguments, but can only have one experssions. [12] "
      ]
    },
    {
      "cell_type": "code",
      "metadata": {
        "id": "tmmBNW9pFg-4"
      },
      "source": [
        "x = 4"
      ],
      "execution_count": null,
      "outputs": []
    },
    {
      "cell_type": "code",
      "metadata": {
        "id": "_9KYzCrIFCpI",
        "colab": {
          "base_uri": "https://localhost:8080/"
        },
        "outputId": "e663c2c6-5aef-4071-de61-e7d2808c3c4f"
      },
      "source": [
        "def f(x):\r\n",
        "  return 2*(x*x)-1\r\n",
        "f(x)"
      ],
      "execution_count": null,
      "outputs": [
        {
          "output_type": "execute_result",
          "data": {
            "text/plain": [
              "31"
            ]
          },
          "metadata": {
            "tags": []
          },
          "execution_count": 48
        }
      ]
    },
    {
      "cell_type": "code",
      "metadata": {
        "id": "a2uwKwqFFafn",
        "colab": {
          "base_uri": "https://localhost:8080/"
        },
        "outputId": "7f78e630-dce6-489d-cc6e-b00c48c740dc"
      },
      "source": [
        "g = lambda x: 2*(x*x)-1\r\n",
        "print(g(x))"
      ],
      "execution_count": null,
      "outputs": [
        {
          "output_type": "stream",
          "text": [
            "31\n"
          ],
          "name": "stdout"
        }
      ]
    },
    {
      "cell_type": "markdown",
      "metadata": {
        "id": "HkC8UY0_UVGI"
      },
      "source": [
        "# Activity "
      ]
    },
    {
      "cell_type": "code",
      "metadata": {
        "id": "Rjm9RFrGlMgA",
        "colab": {
          "base_uri": "https://localhost:8080/"
        },
        "outputId": "e9a9441e-5727-456e-aa77-9ce695912aa8"
      },
      "source": [
        "'''\r\n",
        "Create a grade calculator that computes for the semestral grade of a course.\r\n",
        "Students could type their names, the name of the course, then their prelim,\r\n",
        "midterm, and final grade.\r\n",
        "The program should print the semestral grade in 2 decimal points and should\r\n",
        "display the following emojis depending on the situation:\r\n",
        "happy - when grade is greater than 70.00\r\n",
        "laughing - when grade is exactly 70.00\r\n",
        "sad - when grade is below 70.00\r\n",
        "'''\r\n",
        "\r\n",
        "\r\n",
        "def semestral_grade_calculator():\r\n",
        "      name = (input(\"Enter your name: \"))\r\n",
        "      course = (input(\"Enter your course: \"))\r\n",
        "      sm_pg = float(input(\"Input your prelim grade: \"))\r\n",
        "      sm_mg = float(input(\"Input your midterm grade: \"))\r\n",
        "      sm_finals= float(input(\"Input your final grade: \"))\r\n",
        "      semestral_wg = (sm_pg *0.3) + (sm_mg *0.30) + (sm_finals *0.4)\r\n",
        "\r\n",
        "      happy, lol, sad = \"\\U0001F600\",\"\\U0001F923\",\"\\U0001F619\"\r\n",
        "\r\n",
        "      if (semestral_wg >  70 and semestral_wg <= 100):\r\n",
        "        print(\"Hello {}, your semestral grade is: {:.2f}{}\".format(name, semestral_wg, happy))\r\n",
        "      elif (semestral_wg== 70):\r\n",
        "        print(\" Input is invalid\")\r\n",
        "      elif(semestral_wg  < 70 and semestral_wg >= 0 ):\r\n",
        "        print(\"Hello {}, your semestral grade is: {:.2f}{}\".format(name, semestral_wg, sad))\r\n",
        "      else:\r\n",
        "         error = \"Not viable for computation. Please try again\"\r\n",
        "         return error\r\n",
        "semestral_grade_calculator()"
      ],
      "execution_count": null,
      "outputs": [
        {
          "output_type": "stream",
          "text": [
            "Enter your name: Fred\n",
            "Enter your course: BsCpe\n",
            "Input your prelim grade: 98\n",
            "Input your midterm grade: 98\n",
            "Input your final grade: 98\n",
            "Hello Fred, your semestral grade is: 98.00😀\n"
          ],
          "name": "stdout"
        }
      ]
    },
    {
      "cell_type": "markdown",
      "metadata": {
        "id": "gev38sC_QJf5"
      },
      "source": [
        "## References:\r\n",
        "[1] Tutorials Point(2021), about \" Python - Variable Types \" [Online](https://www.tutorialspoint.com/python/python_variable_types.htm) \r\n",
        "\r\n",
        "[2][3][4][5] Parewa Labs Pvt. Ltd.(2021), about \" Python Operators\" [Online](https://www.programiz.com/python-programming/operators)\r\n",
        "\r\n",
        "\r\n",
        "[6] Tutorials Point(2021), about \" Pyhton - Loops\" .[Online](https://stackabuse.com/loops-in-python/).\r\n",
        "\r\n",
        "[7] Parewa Labs Pvt. Ltd.(2021), about \" Python while loop\" [Online](https://www.programiz.com/python-programming/while-loop) \r\n",
        "\r\n",
        "[8] W3Schools,(2021). about \" Pyhton For Loops \" [Online](https://www.w3schools.com/python/python_for_loops.asp#:~:text=A%20for%20loop%20is%20used,other%20object%2Dorientated%20programming%20languages.) \r\n",
        "\r\n",
        "[9] Educative, Inc.(2021), about \" What are control flow statements in Python \" [Online](https://www.w3schools.com/python/python_for_loops.asp#:~:text=A%20for%20loop%20is%20used,other%20object%2Dorientated%20programming%20languages.) \r\n",
        "\r\n",
        "[10] Guru99(2021) about \" Python Conditional Statements: IF...Else, ELIF & Switch Case\" [Online](https://www.guru99.com/if-loop-python-conditional-structures.html) \r\n",
        "\r\n",
        "[11] W3Schools(2021). about\" Python Functions\" [Online](https://www.w3schools.com/python/python_functions.asp)\r\n",
        "\r\n",
        "[12] W3Schools(2021). about \" Python Lambda\" [Online](https://www.w3schools.com/python/python_functions.asp) "
      ]
    },
    {
      "cell_type": "markdown",
      "metadata": {
        "id": "JKE7yQixUHWY"
      },
      "source": [
        ""
      ]
    }
  ]
}