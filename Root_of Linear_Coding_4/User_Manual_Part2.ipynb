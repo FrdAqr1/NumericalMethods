{
  "nbformat": 4,
  "nbformat_minor": 0,
  "metadata": {
    "colab": {
      "name": "User_Manual_Part2.ipynb",
      "provenance": [],
      "collapsed_sections": []
    },
    "kernelspec": {
      "name": "python3",
      "display_name": "Python 3"
    }
  },
  "cells": [
    {
      "cell_type": "markdown",
      "metadata": {
        "id": "b8UUH3e1XH1R"
      },
      "source": [
        "# User Manual: How To Use Package and Module\r\n",
        "### Bisection, Falsi, and Secant Method\r\n",
        "\r\n",
        "*submitted by:*\r\n",
        "\r\n",
        "Aquiro, Freddielyn E.\r\n",
        "\r\n",
        "Canoza, Cherrylyn\r\n",
        "\r\n",
        "Joaquin, Christopher Marc "
      ]
    },
    {
      "cell_type": "markdown",
      "metadata": {
        "id": "lfAS25IALY73"
      },
      "source": [
        "## Step 1: Define the equation that you will use.\r\n",
        "In this program, the equation that the programmers used is: \r\n",
        "$$f(x) = 2x^2 - 5x +3$$<br>\r\n",
        "This is the equation will use in Bisection and Regula Falsi Method. "
      ]
    },
    {
      "cell_type": "markdown",
      "metadata": {
        "id": "lQ5gl3NeMgI4"
      },
      "source": [
        "## Step 2: Choose a method that you want to use for finding roots.\r\n",
        "* Bisection Method\r\n",
        "* Regula Falsi Method\r\n",
        "* Secant Method"
      ]
    },
    {
      "cell_type": "markdown",
      "metadata": {
        "id": "wMIZYJLMM4gG"
      },
      "source": [
        "## Step 3: Provide your parameter.\r\n"
      ]
    },
    {
      "cell_type": "markdown",
      "metadata": {
        "id": "5IKWfzthPU4u"
      },
      "source": [
        "### Bisection Method\r\n",
        "The bisection method is used to find the roots of a polynomial equation. It separates the interval and subdivides the interval in which the root of the equation lies. The principle behind this method is the intermediate theorem for continuous functions. It works by narrowing the gap between the positive and negative intervals until it closes in on the correct answer. [[1]](https://byjus.com/maths/bisection-method/)"
      ]
    },
    {
      "cell_type": "markdown",
      "metadata": {
        "id": "ZRdrQLBxWTzP"
      },
      "source": [
        "## Parameters:\r\n",
        "func = equation to be tested\r\n",
        "\r\n",
        "iv1 = first interval of x which gives value to y1.\r\n",
        "\r\n",
        "iv2 = second interval of x which gives \r\n",
        "vale to y2.\r\n",
        "\r\n",
        "nm_roots = number of roots.\r\n",
        "\r\n",
        "epochs = how many iterations are present \r\n",
        "in the loop.\r\n",
        "\r\n",
        "tol= tolerance"
      ]
    },
    {
      "cell_type": "code",
      "metadata": {
        "id": "yMVLbfbJORVu"
      },
      "source": [
        "def func(x): return 2*x**2 - 5*x + 3 ###Equation given."
      ],
      "execution_count": 12,
      "outputs": []
    },
    {
      "cell_type": "code",
      "metadata": {
        "id": "IFeFaEYuORk4"
      },
      "source": [
        "###Bisection Method function.\r\n",
        "import numpy as np\r\n",
        "def bisection_method(func, iv1, iv2, nm_roots, epochs, tol):\r\n",
        "    roots = []\r\n",
        "    y1, y2 = func(iv1), func(iv2)\r\n",
        "    end_bisect = 0\r\n",
        "    if np.sign(y1) == np.sign(y2):\r\n",
        "          print(\"Root cannot be found in the given interval\")\r\n",
        "    else:\r\n",
        "          for bisect in range(epochs):\r\n",
        "              midp = np.mean([iv1,iv2])\r\n",
        "              y_mid = func(midp)\r\n",
        "              y1 = func(iv1)\r\n",
        "              if np.allclose(0, y1,tol):\r\n",
        "                  roots.append(iv1)\r\n",
        "                  end_bisect = bisect\r\n",
        "                  if len(roots) == nm_roots: # getting the number of roots.\r\n",
        "                    break\r\n",
        "              if np.sign(y1) != np.sign(y_mid): #root for first-half interval\r\n",
        "                  iv2 = midp\r\n",
        "              else: #root for second-half interval\r\n",
        "                  iv1 = midp \r\n",
        "\r\n",
        "    return print(\" the roots are\" ,roots, \" found at\" ,end_bisect)"
      ],
      "execution_count": 15,
      "outputs": []
    },
    {
      "cell_type": "code",
      "metadata": {
        "colab": {
          "base_uri": "https://localhost:8080/"
        },
        "id": "BhjIkjhYOg-G",
        "outputId": "644f0b8c-79f6-4315-b9cd-cd7d67db5dbf"
      },
      "source": [
        "bisection_method(func, iv1 = -1.5, iv2 = 1, nm_roots = 2, epochs = 50, tol = 1e-6) ### Given by the user. "
      ],
      "execution_count": 16,
      "outputs": [
        {
          "output_type": "stream",
          "text": [
            " the roots are [0.9999999906867743, 0.9999999953433871]  found at 29\n"
          ],
          "name": "stdout"
        }
      ]
    },
    {
      "cell_type": "markdown",
      "metadata": {
        "id": "JPrOJBpwWib-"
      },
      "source": [
        "After declaring its parameters it will display a number of roots which satisfy the needed requirements. It will return to its declared function. "
      ]
    },
    {
      "cell_type": "markdown",
      "metadata": {
        "id": "Bc3PklilNCH2"
      },
      "source": [
        "### Regula Falsi Method\r\n",
        " It is also known as *method of false position*, it is a numerical method for solving an equation in one unknown. It is quite similar to bisection method algorithm and is one of the oldest approaches. It was developed because the bisection method converges at a fairly slow speed. In simple terms, the method is the trial and error technique of using test (\"false\") values for the variable and then adjusting the test value according to the outcome. [[2]](https://iq.opengenus.org/regula-falsi-method/)"
      ]
    },
    {
      "cell_type": "code",
      "metadata": {
        "id": "383Uvm6wZTRV"
      },
      "source": [
        "def f(x): return 2*x**2 - 5*x + 3 ###Equation"
      ],
      "execution_count": null,
      "outputs": []
    },
    {
      "cell_type": "code",
      "metadata": {
        "id": "FI8XvW2eZVi9"
      },
      "source": [
        "###Function for Regula Falsi\r\n",
        "def rfalsi(a,b): \r\n",
        "  m = (f(b)-f(a))/(b-a) ###Formula for regula falsi\r\n",
        "  c = a - f(a)/m\r\n",
        "  while abs(f(c))>0.01:\r\n",
        "    if f(c)*f(a)>0:\r\n",
        "      a=c\r\n",
        "    else:\r\n",
        "      b=c\r\n",
        "    m = (f(b)-f(a))/(b-a)\r\n",
        "    c = a - f(a)/m\r\n",
        "\r\n",
        "    print(c,'', f(c))\r\n",
        "  print('The root is',c)"
      ],
      "execution_count": null,
      "outputs": []
    },
    {
      "cell_type": "code",
      "metadata": {
        "id": "Ennvzgb_Zr0u"
      },
      "source": [
        "###Given by the user. \r\n",
        "r = 1.1 \r\n",
        "s = 3"
      ],
      "execution_count": null,
      "outputs": []
    },
    {
      "cell_type": "code",
      "metadata": {
        "colab": {
          "base_uri": "https://localhost:8080/"
        },
        "id": "R6PMcqGFZu2k",
        "outputId": "2609047e-54a6-4ee6-d8cd-cb587c98a5bd"
      },
      "source": [
        "rfalsi(r,s)"
      ],
      "execution_count": null,
      "outputs": [
        {
          "output_type": "stream",
          "text": [
            "1.1538461538461537  -0.10650887573964463\n",
            "1.1860465116279069  -0.11681990265008135\n",
            "1.2206896551724138  -0.12328180737217664\n",
            "1.2565130260521045  -0.12491516098328903\n",
            "1.2920707358813464  -0.12146010636480353\n",
            "1.325958936813624  -0.11346047983628793\n",
            "1.3570276748747003  -0.10209015362183127\n",
            "1.3845151902744695  -0.08881132717084661\n",
            "1.408078631850632  -0.07502229230446478\n",
            "1.4277377515148204  -0.06181858337291235\n",
            "1.4437717227654054  -0.04990503891305398\n",
            "1.4566088883462625  -0.03962553451264306\n",
            "1.4667349627877762  -0.03105191181076261\n",
            "1.474629242494572  -0.024083406832629883\n",
            "1.480727452303874  -0.018529685506726956\n",
            "1.485404947303293  -0.014169021570267226\n",
            "1.4889732424235185  -0.010783578811180305\n",
            "1.491684083017342  -0.008177608032132966\n",
            "The root is 1.491684083017342\n"
          ],
          "name": "stdout"
        }
      ]
    },
    {
      "cell_type": "markdown",
      "metadata": {
        "id": "Veg1fcFYUmi9"
      },
      "source": [
        "###Secant Method\r\n",
        "The secant method is very similar to the bisection method except instead of dividing each interval by choosing the midpoint the secant method divides each interval by the secant line connecting the endpoints. [3](https://www.math.ubc.ca/~pwalls/math-python/roots-optimization/secant/)"
      ]
    },
    {
      "cell_type": "code",
      "metadata": {
        "id": "HAzYPRT3Ufjl",
        "colab": {
          "base_uri": "https://localhost:8080/"
        },
        "outputId": "5f45f88d-1e08-4f83-8cfc-0d0a2c1e1283"
      },
      "source": [
        "###Secant Method Function\r\n",
        "import math\r\n",
        "def secant(f,a,b,tol =1e-10,maxit=100):\r\n",
        "  fa = f(a)\r\n",
        "  if abs(fa) < tol:\r\n",
        "    return a\r\n",
        "  fb = f(b)\r\n",
        "  if abs(fb) < tol: \r\n",
        "    return b\r\n",
        "\r\n",
        "  if fa*fb > 0: \r\n",
        "    print(\"f(a) and f(b) must have different signs.\")\r\n",
        "    return none\r\n",
        "\r\n",
        "  for _ in range(maxit):\r\n",
        "    c = (a*fb - b*fa)/(fb - fa)\r\n",
        "    fc = f(c)\r\n",
        "\r\n",
        "    if abs(b - a) < tol:\r\n",
        "      break\r\n",
        "    if abs(fc) < tol:\r\n",
        "      break\r\n",
        "    if fa*fc > 0:\r\n",
        "      a, fa = c, fc\r\n",
        "\r\n",
        "    if fb*fc > 0:\r\n",
        "      b, fb = c, fc\r\n",
        "  return c\r\n",
        "\r\n",
        "func = lambda x: x**3 - x - 1\r\n",
        "a = 1\r\n",
        "b = 5\r\n",
        "x = secant(func, a, b, tol = 1e-20, maxit=100)\r\n",
        "print(\"Solution of 1st equation: x = {}, f(x) = {}\".format(x, func(x)))\r\n",
        "\r\n",
        "func2 = lambda x: x**2 - math.exp(-x) - 1\r\n",
        "x2 = secant(func2, -1,5, tol = 1e-6)\r\n",
        "print(\"Solution of 2nd equation: x = {}, f(x) = {}\".format(x2, func2(x2)))"
      ],
      "execution_count": 1,
      "outputs": [
        {
          "output_type": "stream",
          "text": [
            "Solution of 1st equation: x = 1.3247176381152717, f(x) = -1.360969682506763e-06\n",
            "Solution of 2nd equation: x = 1.1477572664034958, f(x) = -9.556316048486835e-07\n"
          ],
          "name": "stdout"
        }
      ]
    },
    {
      "cell_type": "markdown",
      "metadata": {
        "id": "ebkEGvVEP4Od"
      },
      "source": [
        "### *Reference*\r\n",
        "[1] Admin, “Bisection Method - Definition, Procedure, and Example,” BYJUS, 03-Feb-2021. [Online]. Available: https://byjus.com/maths/bisection-method/. [Accessed: 07-Mar-2021]. <br>\r\n",
        "[2] E. Chopra, “Regula Falsi Method for finding root of a polynomial,” OpenGenus IQ: Learn Computer Science, 24-Sep-2019. [Online]. Available: https://iq.opengenus.org/regula-falsi-method/. [Accessed: 07-Mar-2021]. <br>\r\n",
        "[3] E. Chopra, “Regula Falsi Method for finding root of a polynomial,” OpenGenus IQ: Learn Computer Science, 24-Sep-2019. [Online]. Available: https://iq.opengenus.org/regula-falsi-method/. [Accessed: 07-Mar-2021]. <br>"
      ]
    }
  ]
}